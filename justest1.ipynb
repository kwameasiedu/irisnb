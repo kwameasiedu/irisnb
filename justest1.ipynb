{
    "cells": [
        {
            "cell_type": "markdown",
            "metadata": {
                "id": "d67d193b3b84db144740709cab1f8771"
            },
            "source": [
                "#Welcome to mlOS Lab"
            ]
        },
        {
            "cell_type": "code",
            "execution_count": 0,
            "metadata": {},
            "outputs": [],
            "source": [
                "#type code here\n",
                "import pandas as pd \n",
                "#import nympy as np \n",
                "import seaborn as sns \n",
                "import os \n",
                "import matplotlib.pyplot as plt  "
            ]
        },
        {
            "cell_type": "code",
            "execution_count": 0,
            "metadata": {},
            "outputs": [],
            "source": [
                "#type code here\n",
                "df = pd.read_csv('Iris.csv') "
            ]
        },
        {
            "cell_type": "code",
            "execution_count": 0,
            "metadata": {},
            "outputs": [
                {
                    "name": "stdout",
                    "text": [
                        "   Id  SepalLengthCm  SepalWidthCm  PetalLengthCm  PetalWidthCm      Species\n",
                        "0   1            5.1           3.5            1.4           0.2  Iris-setosa\n",
                        "1   2            4.9           3.0            1.4           0.2  Iris-setosa\n",
                        "2   3            4.7           3.2            1.3           0.2  Iris-setosa\n",
                        "3   4            4.6           3.1            1.5           0.2  Iris-setosa\n",
                        "4   5            5.0           3.6            1.4           0.2  Iris-setosa\n",
                        "\n"
                    ],
                    "output_type": "stream"
                }
            ],
            "source": [
                "#type code here\n",
                "print(df.head())"
            ]
        },
        {
            "cell_type": "code",
            "execution_count": 0,
            "metadata": {},
            "outputs": [
                {
                    "name": "stdout",
                    "text": [
                        "               Id  SepalLengthCm  SepalWidthCm  PetalLengthCm  PetalWidthCm\n",
                        "count  150.000000     150.000000    150.000000     150.000000    150.000000\n",
                        "mean    75.500000       5.843333      3.054000       3.758667      1.198667\n",
                        "std     43.445368       0.828066      0.433594       1.764420      0.763161\n",
                        "min      1.000000       4.300000      2.000000       1.000000      0.100000\n",
                        "25%     38.250000       5.100000      2.800000       1.600000      0.300000\n",
                        "50%     75.500000       5.800000      3.000000       4.350000      1.300000\n",
                        "75%    112.750000       6.400000      3.300000       5.100000      1.800000\n",
                        "max    150.000000       7.900000      4.400000       6.900000      2.500000\n",
                        "\n"
                    ],
                    "output_type": "stream"
                }
            ],
            "source": [
                "#type code here\n",
                "print(df.describe())"
            ]
        },
        {
            "cell_type": "code",
            "execution_count": 0,
            "metadata": {},
            "outputs": [
                {
                    "name": "stdout",
                    "text": [
                        "<class 'pandas.core.frame.DataFrame'>\n",
                        "RangeIndex: 150 entries, 0 to 149\n",
                        "Data columns (total 6 columns):\n",
                        " #   Column         Non-Null Count  Dtype  \n",
                        "---  ------         --------------  -----  \n",
                        " 0   Id             150 non-null    int64  \n",
                        " 1   SepalLengthCm  150 non-null    float64\n",
                        " 2   SepalWidthCm   150 non-null    float64\n",
                        " 3   PetalLengthCm  150 non-null    float64\n",
                        " 4   PetalWidthCm   150 non-null    float64\n",
                        " 5   Species        150 non-null    object \n",
                        "dtypes: float64(4), int64(1), object(1)\n",
                        "memory usage: 7.2+ KB\n",
                        "None\n",
                        "\n"
                    ],
                    "output_type": "stream"
                }
            ],
            "source": [
                "#type code here\n",
                "print(df.info())"
            ]
        },
        {
            "cell_type": "code",
            "execution_count": 0,
            "metadata": {},
            "outputs": [
                {
                    "name": "stdout",
                    "text": [
                        "Id               0\n",
                        "SepalLengthCm    0\n",
                        "SepalWidthCm     0\n",
                        "PetalLengthCm    0\n",
                        "PetalWidthCm     0\n",
                        "Species          0\n",
                        "dtype: int64\n",
                        "\n"
                    ],
                    "output_type": "stream"
                }
            ],
            "source": [
                "#type code here\n",
                "print(df.isnull().sum())"
            ]
        },
        {
            "cell_type": "markdown",
            "metadata": {
                "id": "2b60953a91376edd024213461b2dd7e1"
            },
            "source": [
                "****# 1. Plot some graphs****",
                "****"
            ]
        },
        {
            "cell_type": "code",
            "execution_count": 0,
            "metadata": {},
            "outputs": [
                {
                    "data": {
                        "text/plain": "<Figure size 432x288 with 1 Axes>",
                        "image/png": "[encoded data removed]"
                    },
                    "metadata": {
                        "needs_background": "light"
                    },
                    "output_type": "display_data"
                }
            ],
            "source": [
                "#type code here\n",
                "df['SepalLengthCm'].hist()"
            ]
        },
        {
            "cell_type": "code",
            "execution_count": 0,
            "metadata": {},
            "outputs": [
                {
                    "data": {
                        "text/plain": "<Figure size 432x288 with 1 Axes>",
                        "image/png": "[encoded data removed]"
                    },
                    "metadata": {
                        "needs_background": "light"
                    },
                    "output_type": "display_data"
                }
            ],
            "source": [
                "#type code here\n",
                "df['SepalWidthCm'].hist()"
            ]
        },
        {
            "cell_type": "code",
            "execution_count": 0,
            "metadata": {},
            "outputs": [],
            "source": [
                "#type code here\n",
                "#scatter plot\n",
                "colors = ['red','orange','blue']\n",
                "species = ['Iris-verginica','Iris-versicolor','Iris-setosa']"
            ]
        },
        {
            "cell_type": "code",
            "execution_count": 0,
            "metadata": {},
            "outputs": [
                {
                    "data": {
                        "text/plain": "<Figure size 432x288 with 1 Axes>",
                        "image/png": "[encoded data removed]"
                    },
                    "metadata": {
                        "needs_background": "light"
                    },
                    "output_type": "display_data"
                }
            ],
            "source": [
                "#type code here\n",
                "for i in range(3):\n",
                "    x = df[df['Species']==species[i]]\n",
                "    plt.scatter(x['SepalLengthCm'], x['SepalWidthCm'], c = colors[i], label = species[i])\n",
                "    plt.xlabel('SepalLength')\n",
                "    plt.ylabel('SepalWidth')\n",
                "    plt.legend()"
            ]
        }
    ],
    "metadata": {
        "kernelspec": {
            "display_name": "Python 3",
            "language": "python",
            "name": "python3"
        },
        "language_info": {
            "codemirror_mode": {
                "name": "ipython",
                "version": 3
            },
            "file_extension": ".py",
            "mimetype": "text/x-python",
            "name": "python",
            "nbconvert_exporter": "python",
            "pygments_lexer": "ipython3",
            "version": "3.6.8"
        }
    },
    "nbformat": 4,
    "nbformat_minor": 5
}